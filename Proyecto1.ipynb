{
 "cells": [
  {
   "cell_type": "code",
   "execution_count": 17,
   "metadata": {},
   "outputs": [],
   "source": [
    "import numpy as np\n",
    "import matplotlib.pyplot as plt\n",
    "import scipy.optimize as opt\n",
    "import sympy as sym"
   ]
  },
  {
   "cell_type": "code",
   "execution_count": null,
   "metadata": {},
   "outputs": [],
   "source": []
  },
  {
   "cell_type": "markdown",
   "metadata": {},
   "source": [
    "### Una compañía se dedica a la producción de películas delgadas mediante la evaporación de metales. Dicha compañía produce 3 tipos diferentes de películas delgadas, y su marco de operación es el siguiente:\n",
    "|Tipo de película|% de oro|% de plata|% de silicio|% de aluminio|\n",
    "|---|---|---|---|---|\n",
    "|A|25|15|5|45|\n",
    "|B|50|15|30|5|\n",
    "|C|10|50|10|30|\n",
    "|D|75|5|15|5|\n",
    "\n",
    "### Aparte de la composición de las películas, se cuenta con los siguientes factores de producción:\n",
    "|Tipo de película|Tiempo de producción (horas)|Peso en gramos|Consumo energético KW)|\n",
    "|---|---|---|---|\n",
    "|A|2|2|11|\n",
    "|B|4|3|13|\n",
    "|C|2|3|11|\n",
    "|D|6|6|9|\n",
    "\n",
    "### El precio en que cada película delgada es vendida se muestra a continuación:\n",
    "|Tipo de película|Precio de venta|\n",
    "|---|---|\n",
    "|A|3500 pesos|\n",
    "|B|6000 pesos|\n",
    "|C|4300 pesos|\n",
    "|D|9200 pesos|\n",
    "\n",
    "### Además, la planta cuenta con algunas restricciones de operación\n",
    "+ La planta cuenta con un tiempo de actividad semanal máximo de 150 horas\n",
    "+ Se puede disponer de cualquier cantidad de metales por separado, siempre y cuando no se excedan los 320 g de metal en total (de todos los metales juntos)\n",
    "+ Por regulaciones energéticas: el consumo máximo de electricidad permitido a la semana es de 430KW\n",
    "\n",
    "## Encuentre el número óptimo de cada tipo de película delgada para generar el mayor beneficio"
   ]
  },
  {
   "cell_type": "markdown",
   "metadata": {},
   "source": [
    "#### Lo primero es plantear nuestra función objetivo, que será generada por la suma del precio de venta de cada tipo de película multiplicado por el número de películas de cada tipo a producir:\n",
    "\n",
    "$x_1 \\rightarrow$ número de películas tipo A<br>\n",
    "$x_2 \\rightarrow$ número de películas tipo B<br>\n",
    "$x_3 \\rightarrow$ número de películas tipo C<br>\n",
    "$x_4 \\rightarrow$ número de películas tipo D<br>\n",
    "\n",
    "\\begin{equation}\n",
    "Utilidad = 3500x_1+600x_2+4300x_3+9200x_4\n",
    "\\end{equation}\n"
   ]
  },
  {
   "cell_type": "code",
   "execution_count": 3,
   "metadata": {},
   "outputs": [],
   "source": [
    "objetivo = -np.array([3500,6000,4300,9200])\n"
   ]
  },
  {
   "cell_type": "markdown",
   "metadata": {},
   "source": [
    "##### Sabemos que la función linprog, del módulo optimize, de la librería scipy de Python, toma cuanto menos tres parámetros: los coeficientes de la función objetivo, los coeficientes del lado izquierdo de las desigualdades (A_ub) y los coeficientes del lado derecho de las desigualdades (b_ub)\n",
    "\n",
    "##### Antes que nada, expresemos las desigualdades:\n",
    "+ La Restricción de tiempo\n",
    "    + la suma de tiempo de la producción de todas las películas debe ser menor a 150 horas\n",
    "    \\begin{equation}R_{tiempo}=2x_1+4x_2+2x_3+6x_4 \\leq 150\\end{equation}\n",
    "+ La restricción de materia prima\n",
    "    + la suma de masa total de la producción no debe exceder los 320 gramos\n",
    "    \\begin{equation}R_{masa}=2x_1+3x_2+3x_3+6x_4 \\leq 320 \\end{equation}\n",
    "+ La restricción de consumo energético\n",
    "    + La suma total de consumo energético no debe ser mayor a 430KW\n",
    "    \\begin{equation} R_{KW} = 11x_1+13x_2+11x_3+9x_4 \\leq 430 \\end{equation}"
   ]
  },
  {
   "cell_type": "code",
   "execution_count": 15,
   "metadata": {},
   "outputs": [],
   "source": [
    "desig_izq = np.array([[2,4,2,6],[2,3,3,6],[6,9,11,14]])\n",
    "desig_der = np.array([150,320,430])"
   ]
  },
  {
   "cell_type": "code",
   "execution_count": 16,
   "metadata": {},
   "outputs": [
    {
     "data": {
      "text/plain": [
       "     con: array([], dtype=float64)\n",
       "     fun: -256000.0\n",
       " message: 'Optimization terminated successfully.'\n",
       "     nit: 3\n",
       "   slack: array([2.84217094e-14, 1.70000000e+02, 0.00000000e+00])\n",
       "  status: 0\n",
       " success: True\n",
       "       x: array([60.,  0.,  0.,  5.])"
      ]
     },
     "execution_count": 16,
     "metadata": {},
     "output_type": "execute_result"
    }
   ],
   "source": [
    "sol = opt.linprog(objetivo,A_ub=desig_izq,b_ub=desig_der,method=\"revised simplex\")\n",
    "sol"
   ]
  }
 ],
 "metadata": {
  "kernelspec": {
   "display_name": "Python 3",
   "language": "python",
   "name": "python3"
  },
  "language_info": {
   "codemirror_mode": {
    "name": "ipython",
    "version": 3
   },
   "file_extension": ".py",
   "mimetype": "text/x-python",
   "name": "python",
   "nbconvert_exporter": "python",
   "pygments_lexer": "ipython3",
   "version": "3.8.3"
  }
 },
 "nbformat": 4,
 "nbformat_minor": 4
}
